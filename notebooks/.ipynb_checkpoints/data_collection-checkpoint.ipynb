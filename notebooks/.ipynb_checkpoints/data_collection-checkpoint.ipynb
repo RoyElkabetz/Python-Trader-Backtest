{
 "cells": [
  {
   "cell_type": "code",
   "execution_count": 1,
   "id": "damaged-nursery",
   "metadata": {},
   "outputs": [],
   "source": [
    "import numpy as np\n",
    "import matplotlib.pyplot as plt\n",
    "import pandas as pd\n",
    "import yfinance as yf\n",
    "from datetime import date"
   ]
  },
  {
   "cell_type": "markdown",
   "id": "handy-amsterdam",
   "metadata": {},
   "source": [
    "## Download a single stock data"
   ]
  },
  {
   "cell_type": "code",
   "execution_count": 2,
   "id": "enabling-stevens",
   "metadata": {},
   "outputs": [
    {
     "name": "stdout",
     "output_type": "stream",
     "text": [
      "[*********************100%***********************]  1 of 1 completed\n"
     ]
    }
   ],
   "source": [
    "ticker = \"aapl\"\n",
    "today = date.today().strftime(\"%Y-%m-%d\")\n",
    "stock_data = yf.download(ticker, start=\"2020-1-1\", end=today)"
   ]
  },
  {
   "cell_type": "code",
   "execution_count": 3,
   "id": "historic-northeast",
   "metadata": {},
   "outputs": [
    {
     "data": {
      "text/plain": [
       "pandas.core.frame.DataFrame"
      ]
     },
     "execution_count": 3,
     "metadata": {},
     "output_type": "execute_result"
    }
   ],
   "source": [
    "type(stock_data)"
   ]
  },
  {
   "cell_type": "code",
   "execution_count": 4,
   "id": "accredited-affairs",
   "metadata": {},
   "outputs": [
    {
     "data": {
      "text/html": [
       "<div>\n",
       "<style scoped>\n",
       "    .dataframe tbody tr th:only-of-type {\n",
       "        vertical-align: middle;\n",
       "    }\n",
       "\n",
       "    .dataframe tbody tr th {\n",
       "        vertical-align: top;\n",
       "    }\n",
       "\n",
       "    .dataframe thead th {\n",
       "        text-align: right;\n",
       "    }\n",
       "</style>\n",
       "<table border=\"1\" class=\"dataframe\">\n",
       "  <thead>\n",
       "    <tr style=\"text-align: right;\">\n",
       "      <th></th>\n",
       "      <th>Open</th>\n",
       "      <th>High</th>\n",
       "      <th>Low</th>\n",
       "      <th>Close</th>\n",
       "      <th>Adj Close</th>\n",
       "      <th>Volume</th>\n",
       "    </tr>\n",
       "    <tr>\n",
       "      <th>Date</th>\n",
       "      <th></th>\n",
       "      <th></th>\n",
       "      <th></th>\n",
       "      <th></th>\n",
       "      <th></th>\n",
       "      <th></th>\n",
       "    </tr>\n",
       "  </thead>\n",
       "  <tbody>\n",
       "    <tr>\n",
       "      <th>2019-12-31</th>\n",
       "      <td>289.929993</td>\n",
       "      <td>293.679993</td>\n",
       "      <td>289.519989</td>\n",
       "      <td>293.649994</td>\n",
       "      <td>289.866974</td>\n",
       "      <td>25247625</td>\n",
       "    </tr>\n",
       "    <tr>\n",
       "      <th>2020-01-02</th>\n",
       "      <td>296.239990</td>\n",
       "      <td>300.600006</td>\n",
       "      <td>295.190002</td>\n",
       "      <td>300.350006</td>\n",
       "      <td>296.480713</td>\n",
       "      <td>33911864</td>\n",
       "    </tr>\n",
       "    <tr>\n",
       "      <th>2020-01-03</th>\n",
       "      <td>297.149994</td>\n",
       "      <td>300.579987</td>\n",
       "      <td>296.500000</td>\n",
       "      <td>297.429993</td>\n",
       "      <td>293.598297</td>\n",
       "      <td>36633878</td>\n",
       "    </tr>\n",
       "    <tr>\n",
       "      <th>2020-01-06</th>\n",
       "      <td>293.790009</td>\n",
       "      <td>299.959991</td>\n",
       "      <td>292.750000</td>\n",
       "      <td>299.799988</td>\n",
       "      <td>295.937714</td>\n",
       "      <td>29644644</td>\n",
       "    </tr>\n",
       "    <tr>\n",
       "      <th>2020-01-07</th>\n",
       "      <td>299.839996</td>\n",
       "      <td>300.899994</td>\n",
       "      <td>297.480011</td>\n",
       "      <td>298.390015</td>\n",
       "      <td>294.545929</td>\n",
       "      <td>26207813</td>\n",
       "    </tr>\n",
       "  </tbody>\n",
       "</table>\n",
       "</div>"
      ],
      "text/plain": [
       "                  Open        High         Low       Close   Adj Close  \\\n",
       "Date                                                                     \n",
       "2019-12-31  289.929993  293.679993  289.519989  293.649994  289.866974   \n",
       "2020-01-02  296.239990  300.600006  295.190002  300.350006  296.480713   \n",
       "2020-01-03  297.149994  300.579987  296.500000  297.429993  293.598297   \n",
       "2020-01-06  293.790009  299.959991  292.750000  299.799988  295.937714   \n",
       "2020-01-07  299.839996  300.899994  297.480011  298.390015  294.545929   \n",
       "\n",
       "              Volume  \n",
       "Date                  \n",
       "2019-12-31  25247625  \n",
       "2020-01-02  33911864  \n",
       "2020-01-03  36633878  \n",
       "2020-01-06  29644644  \n",
       "2020-01-07  26207813  "
      ]
     },
     "execution_count": 4,
     "metadata": {},
     "output_type": "execute_result"
    }
   ],
   "source": [
    "stock_data.head()"
   ]
  },
  {
   "cell_type": "code",
   "execution_count": 44,
   "id": "ultimate-canberra",
   "metadata": {},
   "outputs": [
    {
     "data": {
      "text/html": [
       "<div>\n",
       "<style scoped>\n",
       "    .dataframe tbody tr th:only-of-type {\n",
       "        vertical-align: middle;\n",
       "    }\n",
       "\n",
       "    .dataframe tbody tr th {\n",
       "        vertical-align: top;\n",
       "    }\n",
       "\n",
       "    .dataframe thead th {\n",
       "        text-align: right;\n",
       "    }\n",
       "</style>\n",
       "<table border=\"1\" class=\"dataframe\">\n",
       "  <thead>\n",
       "    <tr style=\"text-align: right;\">\n",
       "      <th></th>\n",
       "      <th>Open</th>\n",
       "      <th>High</th>\n",
       "      <th>Low</th>\n",
       "      <th>Close</th>\n",
       "      <th>Adj Close</th>\n",
       "      <th>Volume</th>\n",
       "    </tr>\n",
       "  </thead>\n",
       "  <tbody>\n",
       "    <tr>\n",
       "      <th>2020-03-19</th>\n",
       "      <td>61.846249</td>\n",
       "      <td>63.209999</td>\n",
       "      <td>60.6525</td>\n",
       "      <td>61.195</td>\n",
       "      <td>60.442417</td>\n",
       "      <td>271857020</td>\n",
       "    </tr>\n",
       "  </tbody>\n",
       "</table>\n",
       "</div>"
      ],
      "text/plain": [
       "                 Open       High      Low   Close  Adj Close     Volume\n",
       "2020-03-19  61.846249  63.209999  60.6525  61.195  60.442417  271857020"
      ]
     },
     "execution_count": 44,
     "metadata": {},
     "output_type": "execute_result"
    }
   ],
   "source": [
    "stock_data.loc[pd.DatetimeIndex(['2020-3-19'])]"
   ]
  },
  {
   "cell_type": "code",
   "execution_count": 5,
   "id": "collected-abraham",
   "metadata": {},
   "outputs": [],
   "source": [
    "# convert to numpy arrays\n",
    "open_arr = stock_data['Open'].to_numpy()\n",
    "high_arr = stock_data['High'].to_numpy()\n",
    "low_arr = stock_data['Low'].to_numpy()\n",
    "close_arr = stock_data['Close'].to_numpy()"
   ]
  },
  {
   "cell_type": "code",
   "execution_count": 6,
   "id": "structural-procedure",
   "metadata": {},
   "outputs": [],
   "source": [
    "open_ = stock_data['Open']\n",
    "high_ = stock_data['High']\n",
    "low_ = stock_data['Low']\n",
    "close_ = stock_data['Close']"
   ]
  },
  {
   "cell_type": "code",
   "execution_count": 7,
   "id": "usual-vatican",
   "metadata": {},
   "outputs": [
    {
     "data": {
      "image/png": "[encoded data removed]",
      "text/plain": [
       "<Figure size 1152x360 with 1 Axes>"
      ]
     },
     "metadata": {
      "needs_background": "light"
     },
     "output_type": "display_data"
    }
   ],
   "source": [
    "fig = plt.figure(figsize=(16, 5))\n",
    "ax = plt.subplot()\n",
    "ax.set_title(ticker)\n",
    "ax.plot(open_, label='Open')\n",
    "ax.plot(high_, label='High')\n",
    "ax.plot(low_, label='Low')\n",
    "ax.plot(close_, label='Close')\n",
    "ax.legend()\n",
    "ax.set_xlabel('Date')\n",
    "ax.set_ylabel('Value USD')\n",
    "ax.grid()"
   ]
  },
  {
   "cell_type": "markdown",
   "id": "tutorial-software",
   "metadata": {},
   "source": [
    "## Get a banch of Stocks data"
   ]
  },
  {
   "cell_type": "code",
   "execution_count": 8,
   "id": "adolescent-banner",
   "metadata": {},
   "outputs": [
    {
     "name": "stdout",
     "output_type": "stream",
     "text": [
      "[*********************100%***********************]  3 of 3 completed\n"
     ]
    }
   ],
   "source": [
    "stocks = ['AAPL', 'SPY', 'GOOG']\n",
    "tickers = ' '.join(stocks)\n",
    "start_date = date(2018, 1, 1).strftime(\"%Y-%m-%d\")\n",
    "end_date = date(2020, 1, 1).strftime(\"%Y-%m-%d\")\n",
    "stocks_data = yf.download(tickers, start=start_date, end=end_date)"
   ]
  },
  {
   "cell_type": "code",
   "execution_count": 9,
   "id": "historic-contractor",
   "metadata": {},
   "outputs": [
    {
     "data": {
      "text/html": [
       "<div>\n",
       "<style scoped>\n",
       "    .dataframe tbody tr th:only-of-type {\n",
       "        vertical-align: middle;\n",
       "    }\n",
       "\n",
       "    .dataframe tbody tr th {\n",
       "        vertical-align: top;\n",
       "    }\n",
       "\n",
       "    .dataframe thead tr th {\n",
       "        text-align: left;\n",
       "    }\n",
       "\n",
       "    .dataframe thead tr:last-of-type th {\n",
       "        text-align: right;\n",
       "    }\n",
       "</style>\n",
       "<table border=\"1\" class=\"dataframe\">\n",
       "  <thead>\n",
       "    <tr>\n",
       "      <th></th>\n",
       "      <th colspan=\"3\" halign=\"left\">Adj Close</th>\n",
       "      <th colspan=\"3\" halign=\"left\">Close</th>\n",
       "      <th colspan=\"3\" halign=\"left\">High</th>\n",
       "      <th colspan=\"3\" halign=\"left\">Low</th>\n",
       "      <th colspan=\"3\" halign=\"left\">Open</th>\n",
       "      <th colspan=\"3\" halign=\"left\">Volume</th>\n",
       "    </tr>\n",
       "    <tr>\n",
       "      <th></th>\n",
       "      <th>AAPL</th>\n",
       "      <th>GOOG</th>\n",
       "      <th>SPY</th>\n",
       "      <th>AAPL</th>\n",
       "      <th>GOOG</th>\n",
       "      <th>SPY</th>\n",
       "      <th>AAPL</th>\n",
       "      <th>GOOG</th>\n",
       "      <th>SPY</th>\n",
       "      <th>AAPL</th>\n",
       "      <th>GOOG</th>\n",
       "      <th>SPY</th>\n",
       "      <th>AAPL</th>\n",
       "      <th>GOOG</th>\n",
       "      <th>SPY</th>\n",
       "      <th>AAPL</th>\n",
       "      <th>GOOG</th>\n",
       "      <th>SPY</th>\n",
       "    </tr>\n",
       "    <tr>\n",
       "      <th>Date</th>\n",
       "      <th></th>\n",
       "      <th></th>\n",
       "      <th></th>\n",
       "      <th></th>\n",
       "      <th></th>\n",
       "      <th></th>\n",
       "      <th></th>\n",
       "      <th></th>\n",
       "      <th></th>\n",
       "      <th></th>\n",
       "      <th></th>\n",
       "      <th></th>\n",
       "      <th></th>\n",
       "      <th></th>\n",
       "      <th></th>\n",
       "      <th></th>\n",
       "      <th></th>\n",
       "      <th></th>\n",
       "    </tr>\n",
       "  </thead>\n",
       "  <tbody>\n",
       "    <tr>\n",
       "      <th>2018-01-02</th>\n",
       "      <td>168.779846</td>\n",
       "      <td>1065.000000</td>\n",
       "      <td>268.769989</td>\n",
       "      <td>172.259995</td>\n",
       "      <td>1065.000000</td>\n",
       "      <td>268.769989</td>\n",
       "      <td>172.300003</td>\n",
       "      <td>1066.939941</td>\n",
       "      <td>268.809998</td>\n",
       "      <td>169.259995</td>\n",
       "      <td>1045.229980</td>\n",
       "      <td>267.399994</td>\n",
       "      <td>170.160004</td>\n",
       "      <td>1048.339966</td>\n",
       "      <td>267.839996</td>\n",
       "      <td>25555934</td>\n",
       "      <td>1237564</td>\n",
       "      <td>86655749</td>\n",
       "    </tr>\n",
       "    <tr>\n",
       "      <th>2018-01-03</th>\n",
       "      <td>168.750473</td>\n",
       "      <td>1082.479980</td>\n",
       "      <td>270.470001</td>\n",
       "      <td>172.229996</td>\n",
       "      <td>1082.479980</td>\n",
       "      <td>270.470001</td>\n",
       "      <td>174.550003</td>\n",
       "      <td>1086.290039</td>\n",
       "      <td>270.640015</td>\n",
       "      <td>171.960007</td>\n",
       "      <td>1063.209961</td>\n",
       "      <td>268.959991</td>\n",
       "      <td>172.529999</td>\n",
       "      <td>1064.310059</td>\n",
       "      <td>268.959991</td>\n",
       "      <td>29517899</td>\n",
       "      <td>1430170</td>\n",
       "      <td>90070416</td>\n",
       "    </tr>\n",
       "    <tr>\n",
       "      <th>2018-01-04</th>\n",
       "      <td>169.534286</td>\n",
       "      <td>1086.400024</td>\n",
       "      <td>271.609985</td>\n",
       "      <td>173.029999</td>\n",
       "      <td>1086.400024</td>\n",
       "      <td>271.609985</td>\n",
       "      <td>173.470001</td>\n",
       "      <td>1093.569946</td>\n",
       "      <td>272.160004</td>\n",
       "      <td>172.080002</td>\n",
       "      <td>1084.001709</td>\n",
       "      <td>270.544708</td>\n",
       "      <td>172.539993</td>\n",
       "      <td>1088.000000</td>\n",
       "      <td>271.200012</td>\n",
       "      <td>22434597</td>\n",
       "      <td>1004605</td>\n",
       "      <td>80636408</td>\n",
       "    </tr>\n",
       "    <tr>\n",
       "      <th>2018-01-05</th>\n",
       "      <td>171.464493</td>\n",
       "      <td>1102.229980</td>\n",
       "      <td>273.420013</td>\n",
       "      <td>175.000000</td>\n",
       "      <td>1102.229980</td>\n",
       "      <td>273.420013</td>\n",
       "      <td>175.369995</td>\n",
       "      <td>1104.250000</td>\n",
       "      <td>273.559998</td>\n",
       "      <td>173.050003</td>\n",
       "      <td>1092.000000</td>\n",
       "      <td>271.950012</td>\n",
       "      <td>173.440002</td>\n",
       "      <td>1094.000000</td>\n",
       "      <td>272.510010</td>\n",
       "      <td>23660018</td>\n",
       "      <td>1279123</td>\n",
       "      <td>83523995</td>\n",
       "    </tr>\n",
       "    <tr>\n",
       "      <th>2018-01-08</th>\n",
       "      <td>170.827621</td>\n",
       "      <td>1106.939941</td>\n",
       "      <td>273.920013</td>\n",
       "      <td>174.350006</td>\n",
       "      <td>1106.939941</td>\n",
       "      <td>273.920013</td>\n",
       "      <td>175.610001</td>\n",
       "      <td>1111.270020</td>\n",
       "      <td>274.100006</td>\n",
       "      <td>173.929993</td>\n",
       "      <td>1101.619995</td>\n",
       "      <td>272.980011</td>\n",
       "      <td>174.350006</td>\n",
       "      <td>1102.229980</td>\n",
       "      <td>273.309998</td>\n",
       "      <td>20567766</td>\n",
       "      <td>1047603</td>\n",
       "      <td>57319192</td>\n",
       "    </tr>\n",
       "  </tbody>\n",
       "</table>\n",
       "</div>"
      ],
      "text/plain": [
       "             Adj Close                                Close               \\\n",
       "                  AAPL         GOOG         SPY        AAPL         GOOG   \n",
       "Date                                                                       \n",
       "2018-01-02  168.779846  1065.000000  268.769989  172.259995  1065.000000   \n",
       "2018-01-03  168.750473  1082.479980  270.470001  172.229996  1082.479980   \n",
       "2018-01-04  169.534286  1086.400024  271.609985  173.029999  1086.400024   \n",
       "2018-01-05  171.464493  1102.229980  273.420013  175.000000  1102.229980   \n",
       "2018-01-08  170.827621  1106.939941  273.920013  174.350006  1106.939941   \n",
       "\n",
       "                              High                                  Low  \\\n",
       "                   SPY        AAPL         GOOG         SPY        AAPL   \n",
       "Date                                                                      \n",
       "2018-01-02  268.769989  172.300003  1066.939941  268.809998  169.259995   \n",
       "2018-01-03  270.470001  174.550003  1086.290039  270.640015  171.960007   \n",
       "2018-01-04  271.609985  173.470001  1093.569946  272.160004  172.080002   \n",
       "2018-01-05  273.420013  175.369995  1104.250000  273.559998  173.050003   \n",
       "2018-01-08  273.920013  175.610001  1111.270020  274.100006  173.929993   \n",
       "\n",
       "                                           Open                           \\\n",
       "                   GOOG         SPY        AAPL         GOOG         SPY   \n",
       "Date                                                                       \n",
       "2018-01-02  1045.229980  267.399994  170.160004  1048.339966  267.839996   \n",
       "2018-01-03  1063.209961  268.959991  172.529999  1064.310059  268.959991   \n",
       "2018-01-04  1084.001709  270.544708  172.539993  1088.000000  271.200012   \n",
       "2018-01-05  1092.000000  271.950012  173.440002  1094.000000  272.510010   \n",
       "2018-01-08  1101.619995  272.980011  174.350006  1102.229980  273.309998   \n",
       "\n",
       "              Volume                     \n",
       "                AAPL     GOOG       SPY  \n",
       "Date                                     \n",
       "2018-01-02  25555934  1237564  86655749  \n",
       "2018-01-03  29517899  1430170  90070416  \n",
       "2018-01-04  22434597  1004605  80636408  \n",
       "2018-01-05  23660018  1279123  83523995  \n",
       "2018-01-08  20567766  1047603  57319192  "
      ]
     },
     "execution_count": 9,
     "metadata": {},
     "output_type": "execute_result"
    }
   ],
   "source": [
    "stocks_data.head()"
   ]
  },
  {
   "cell_type": "code",
   "execution_count": 10,
   "id": "joint-unemployment",
   "metadata": {},
   "outputs": [
    {
     "data": {
      "text/html": [
       "<div>\n",
       "<style scoped>\n",
       "    .dataframe tbody tr th:only-of-type {\n",
       "        vertical-align: middle;\n",
       "    }\n",
       "\n",
       "    .dataframe tbody tr th {\n",
       "        vertical-align: top;\n",
       "    }\n",
       "\n",
       "    .dataframe thead th {\n",
       "        text-align: right;\n",
       "    }\n",
       "</style>\n",
       "<table border=\"1\" class=\"dataframe\">\n",
       "  <thead>\n",
       "    <tr style=\"text-align: right;\">\n",
       "      <th></th>\n",
       "      <th>AAPL</th>\n",
       "      <th>GOOG</th>\n",
       "      <th>SPY</th>\n",
       "    </tr>\n",
       "    <tr>\n",
       "      <th>Date</th>\n",
       "      <th></th>\n",
       "      <th></th>\n",
       "      <th></th>\n",
       "    </tr>\n",
       "  </thead>\n",
       "  <tbody>\n",
       "    <tr>\n",
       "      <th>2018-01-02</th>\n",
       "      <td>172.259995</td>\n",
       "      <td>1065.000000</td>\n",
       "      <td>268.769989</td>\n",
       "    </tr>\n",
       "    <tr>\n",
       "      <th>2018-01-03</th>\n",
       "      <td>172.229996</td>\n",
       "      <td>1082.479980</td>\n",
       "      <td>270.470001</td>\n",
       "    </tr>\n",
       "    <tr>\n",
       "      <th>2018-01-04</th>\n",
       "      <td>173.029999</td>\n",
       "      <td>1086.400024</td>\n",
       "      <td>271.609985</td>\n",
       "    </tr>\n",
       "    <tr>\n",
       "      <th>2018-01-05</th>\n",
       "      <td>175.000000</td>\n",
       "      <td>1102.229980</td>\n",
       "      <td>273.420013</td>\n",
       "    </tr>\n",
       "    <tr>\n",
       "      <th>2018-01-08</th>\n",
       "      <td>174.350006</td>\n",
       "      <td>1106.939941</td>\n",
       "      <td>273.920013</td>\n",
       "    </tr>\n",
       "    <tr>\n",
       "      <th>...</th>\n",
       "      <td>...</td>\n",
       "      <td>...</td>\n",
       "      <td>...</td>\n",
       "    </tr>\n",
       "    <tr>\n",
       "      <th>2019-12-24</th>\n",
       "      <td>284.269989</td>\n",
       "      <td>1343.560059</td>\n",
       "      <td>321.230011</td>\n",
       "    </tr>\n",
       "    <tr>\n",
       "      <th>2019-12-26</th>\n",
       "      <td>289.910004</td>\n",
       "      <td>1360.400024</td>\n",
       "      <td>322.940002</td>\n",
       "    </tr>\n",
       "    <tr>\n",
       "      <th>2019-12-27</th>\n",
       "      <td>289.799988</td>\n",
       "      <td>1351.890015</td>\n",
       "      <td>322.859985</td>\n",
       "    </tr>\n",
       "    <tr>\n",
       "      <th>2019-12-30</th>\n",
       "      <td>291.519989</td>\n",
       "      <td>1336.140015</td>\n",
       "      <td>321.079987</td>\n",
       "    </tr>\n",
       "    <tr>\n",
       "      <th>2019-12-31</th>\n",
       "      <td>293.649994</td>\n",
       "      <td>1337.020020</td>\n",
       "      <td>321.859985</td>\n",
       "    </tr>\n",
       "  </tbody>\n",
       "</table>\n",
       "<p>503 rows × 3 columns</p>\n",
       "</div>"
      ],
      "text/plain": [
       "                  AAPL         GOOG         SPY\n",
       "Date                                           \n",
       "2018-01-02  172.259995  1065.000000  268.769989\n",
       "2018-01-03  172.229996  1082.479980  270.470001\n",
       "2018-01-04  173.029999  1086.400024  271.609985\n",
       "2018-01-05  175.000000  1102.229980  273.420013\n",
       "2018-01-08  174.350006  1106.939941  273.920013\n",
       "...                ...          ...         ...\n",
       "2019-12-24  284.269989  1343.560059  321.230011\n",
       "2019-12-26  289.910004  1360.400024  322.940002\n",
       "2019-12-27  289.799988  1351.890015  322.859985\n",
       "2019-12-30  291.519989  1336.140015  321.079987\n",
       "2019-12-31  293.649994  1337.020020  321.859985\n",
       "\n",
       "[503 rows x 3 columns]"
      ]
     },
     "execution_count": 10,
     "metadata": {},
     "output_type": "execute_result"
    }
   ],
   "source": [
    "stocks_data['Close']"
   ]
  },
  {
   "cell_type": "code",
   "execution_count": 11,
   "id": "prompt-abuse",
   "metadata": {},
   "outputs": [
    {
     "data": {
      "text/plain": [
       "Date\n",
       "2018-01-02    172.259995\n",
       "2018-01-03    172.229996\n",
       "2018-01-04    173.029999\n",
       "2018-01-05    175.000000\n",
       "2018-01-08    174.350006\n",
       "                 ...    \n",
       "2019-12-24    284.269989\n",
       "2019-12-26    289.910004\n",
       "2019-12-27    289.799988\n",
       "2019-12-30    291.519989\n",
       "2019-12-31    293.649994\n",
       "Name: AAPL, Length: 503, dtype: float64"
      ]
     },
     "execution_count": 11,
     "metadata": {},
     "output_type": "execute_result"
    }
   ],
   "source": [
    "stocks_data['Close']['AAPL']"
   ]
  },
  {
   "cell_type": "code",
   "execution_count": 12,
   "id": "continental-valley",
   "metadata": {},
   "outputs": [
    {
     "data": {
      "image/png": "[encoded data removed]",
      "text/plain": [
       "<Figure size 1152x360 with 1 Axes>"
      ]
     },
     "metadata": {
      "needs_background": "light"
     },
     "output_type": "display_data"
    }
   ],
   "source": [
    "fig = plt.figure(figsize=(16, 5))\n",
    "ax = plt.subplot()\n",
    "ax.set_title('Normalized Close')\n",
    "for stock in stocks:\n",
    "    ax.plot(stocks_data['Close'][stock] / stocks_data['Close'][stock].min(), label=stock)\n",
    "ax.legend()\n",
    "ax.set_xlabel('Date')\n",
    "ax.set_ylabel('Value USD')\n",
    "ax.grid()"
   ]
  },
  {
   "cell_type": "code",
   "execution_count": 13,
   "id": "engaging-shepherd",
   "metadata": {},
   "outputs": [
    {
     "data": {
      "text/html": [
       "<div>\n",
       "<style scoped>\n",
       "    .dataframe tbody tr th:only-of-type {\n",
       "        vertical-align: middle;\n",
       "    }\n",
       "\n",
       "    .dataframe tbody tr th {\n",
       "        vertical-align: top;\n",
       "    }\n",
       "\n",
       "    .dataframe thead tr th {\n",
       "        text-align: left;\n",
       "    }\n",
       "</style>\n",
       "<table border=\"1\" class=\"dataframe\">\n",
       "  <thead>\n",
       "    <tr>\n",
       "      <th></th>\n",
       "      <th colspan=\"3\" halign=\"left\">Adj Close</th>\n",
       "      <th colspan=\"3\" halign=\"left\">Close</th>\n",
       "      <th colspan=\"3\" halign=\"left\">High</th>\n",
       "      <th colspan=\"3\" halign=\"left\">Low</th>\n",
       "      <th colspan=\"3\" halign=\"left\">Open</th>\n",
       "      <th colspan=\"3\" halign=\"left\">Volume</th>\n",
       "    </tr>\n",
       "    <tr>\n",
       "      <th></th>\n",
       "      <th>AAPL</th>\n",
       "      <th>GOOG</th>\n",
       "      <th>SPY</th>\n",
       "      <th>AAPL</th>\n",
       "      <th>GOOG</th>\n",
       "      <th>SPY</th>\n",
       "      <th>AAPL</th>\n",
       "      <th>GOOG</th>\n",
       "      <th>SPY</th>\n",
       "      <th>AAPL</th>\n",
       "      <th>GOOG</th>\n",
       "      <th>SPY</th>\n",
       "      <th>AAPL</th>\n",
       "      <th>GOOG</th>\n",
       "      <th>SPY</th>\n",
       "      <th>AAPL</th>\n",
       "      <th>GOOG</th>\n",
       "      <th>SPY</th>\n",
       "    </tr>\n",
       "  </thead>\n",
       "  <tbody>\n",
       "    <tr>\n",
       "      <th>2018-03-19</th>\n",
       "      <td>171.932999</td>\n",
       "      <td>1099.819946</td>\n",
       "      <td>270.48999</td>\n",
       "      <td>175.300003</td>\n",
       "      <td>1099.819946</td>\n",
       "      <td>270.48999</td>\n",
       "      <td>177.470001</td>\n",
       "      <td>1121.98999</td>\n",
       "      <td>274.395691</td>\n",
       "      <td>173.660004</td>\n",
       "      <td>1089.01001</td>\n",
       "      <td>268.619995</td>\n",
       "      <td>177.320007</td>\n",
       "      <td>1120.01001</td>\n",
       "      <td>273.350006</td>\n",
       "      <td>33446771</td>\n",
       "      <td>2805937</td>\n",
       "      <td>109208442</td>\n",
       "    </tr>\n",
       "  </tbody>\n",
       "</table>\n",
       "</div>"
      ],
      "text/plain": [
       "             Adj Close                               Close               \\\n",
       "                  AAPL         GOOG        SPY        AAPL         GOOG   \n",
       "2018-03-19  171.932999  1099.819946  270.48999  175.300003  1099.819946   \n",
       "\n",
       "                             High                                 Low  \\\n",
       "                  SPY        AAPL        GOOG         SPY        AAPL   \n",
       "2018-03-19  270.48999  177.470001  1121.98999  274.395691  173.660004   \n",
       "\n",
       "                                          Open                          \\\n",
       "                  GOOG         SPY        AAPL        GOOG         SPY   \n",
       "2018-03-19  1089.01001  268.619995  177.320007  1120.01001  273.350006   \n",
       "\n",
       "              Volume                      \n",
       "                AAPL     GOOG        SPY  \n",
       "2018-03-19  33446771  2805937  109208442  "
      ]
     },
     "execution_count": 13,
     "metadata": {},
     "output_type": "execute_result"
    }
   ],
   "source": [
    "# get all data froma specific date\n",
    "stocks_data.loc[pd.DatetimeIndex(['2018-3-19'])]"
   ]
  },
  {
   "cell_type": "code",
   "execution_count": 14,
   "id": "deluxe-reach",
   "metadata": {},
   "outputs": [
    {
     "name": "stdout",
     "output_type": "stream",
     "text": [
      "[('Adj Close', 'AAPL') ('Adj Close', 'GOOG') ('Adj Close', 'SPY')\n",
      " ('Close', 'AAPL') ('Close', 'GOOG') ('Close', 'SPY') ('High', 'AAPL')\n",
      " ('High', 'GOOG') ('High', 'SPY') ('Low', 'AAPL') ('Low', 'GOOG')\n",
      " ('Low', 'SPY') ('Open', 'AAPL') ('Open', 'GOOG') ('Open', 'SPY')\n",
      " ('Volume', 'AAPL') ('Volume', 'GOOG') ('Volume', 'SPY')]\n",
      "[1.71932999e+02 1.09981995e+03 2.70489990e+02 1.75300003e+02\n",
      " 1.09981995e+03 2.70489990e+02 1.77470001e+02 1.12198999e+03\n",
      " 2.74395691e+02 1.73660004e+02 1.08901001e+03 2.68619995e+02\n",
      " 1.77320007e+02 1.12001001e+03 2.73350006e+02 3.34467710e+07\n",
      " 2.80593700e+06 1.09208442e+08]\n"
     ]
    }
   ],
   "source": [
    "print(stocks_data.loc[pd.DatetimeIndex(['2018-3-19'])].columns.values)\n",
    "print(stocks_data.loc[pd.DatetimeIndex(['2018-3-19'])].values[0])"
   ]
  },
  {
   "cell_type": "code",
   "execution_count": 15,
   "id": "explicit-courtesy",
   "metadata": {},
   "outputs": [
    {
     "name": "stdout",
     "output_type": "stream",
     "text": [
      "False\n",
      "True\n"
     ]
    }
   ],
   "source": [
    "# check for a specific date in the dataframe\n",
    "a_date = (2020, 1, 1)\n",
    "the_date = date(*a_date).strftime(\"%Y-%m-%d\")\n",
    "print(the_date in stocks_data.index)\n",
    "\n",
    "a_date = (2018, 1, 4)\n",
    "the_date = date(*a_date).strftime(\"%Y-%m-%d\")\n",
    "print(the_date in stocks_data.index)"
   ]
  },
  {
   "cell_type": "code",
   "execution_count": 16,
   "id": "graduate-island",
   "metadata": {},
   "outputs": [
    {
     "data": {
      "text/html": [
       "<div>\n",
       "<style scoped>\n",
       "    .dataframe tbody tr th:only-of-type {\n",
       "        vertical-align: middle;\n",
       "    }\n",
       "\n",
       "    .dataframe tbody tr th {\n",
       "        vertical-align: top;\n",
       "    }\n",
       "\n",
       "    .dataframe thead th {\n",
       "        text-align: right;\n",
       "    }\n",
       "</style>\n",
       "<table border=\"1\" class=\"dataframe\">\n",
       "  <thead>\n",
       "    <tr style=\"text-align: right;\">\n",
       "      <th></th>\n",
       "    </tr>\n",
       "  </thead>\n",
       "  <tbody>\n",
       "  </tbody>\n",
       "</table>\n",
       "</div>"
      ],
      "text/plain": [
       "Empty DataFrame\n",
       "Columns: []\n",
       "Index: []"
      ]
     },
     "execution_count": 16,
     "metadata": {},
     "output_type": "execute_result"
    }
   ],
   "source": [
    "a = pd.DataFrame()\n",
    "a.head()"
   ]
  },
  {
   "cell_type": "code",
   "execution_count": 17,
   "id": "fifth-subsection",
   "metadata": {},
   "outputs": [
    {
     "data": {
      "text/plain": [
       "2018-03-19    175.300003\n",
       "Name: (Close, AAPL), dtype: float64"
      ]
     },
     "execution_count": 17,
     "metadata": {},
     "output_type": "execute_result"
    }
   ],
   "source": [
    "# single stocks single date single parameter\n",
    "stocks_data.loc[pd.DatetimeIndex(['2018-3-19'])]['Close', 'AAPL']"
   ]
  },
  {
   "cell_type": "code",
   "execution_count": 18,
   "id": "satisfied-graphic",
   "metadata": {},
   "outputs": [
    {
     "data": {
      "text/plain": [
       "175.3000030517578"
      ]
     },
     "execution_count": 18,
     "metadata": {},
     "output_type": "execute_result"
    }
   ],
   "source": [
    "stocks_data.loc[pd.DatetimeIndex(['2018-3-19'])]['Close', 'AAPL'].values[0]"
   ]
  },
  {
   "cell_type": "code",
   "execution_count": 19,
   "id": "unlimited-boxing",
   "metadata": {},
   "outputs": [
    {
     "data": {
      "text/plain": [
       "DatetimeIndex(['2018-01-02', '2018-01-03', '2018-01-04', '2018-01-05',\n",
       "               '2018-01-08', '2018-01-09', '2018-01-10', '2018-01-11',\n",
       "               '2018-01-12', '2018-01-16',\n",
       "               ...\n",
       "               '2019-12-17', '2019-12-18', '2019-12-19', '2019-12-20',\n",
       "               '2019-12-23', '2019-12-24', '2019-12-26', '2019-12-27',\n",
       "               '2019-12-30', '2019-12-31'],\n",
       "              dtype='datetime64[ns]', name='Date', length=503, freq=None)"
      ]
     },
     "execution_count": 19,
     "metadata": {},
     "output_type": "execute_result"
    }
   ],
   "source": [
    "# get all datetimes in dataframe\n",
    "stocks_data.index"
   ]
  },
  {
   "cell_type": "code",
   "execution_count": 20,
   "id": "acquired-bridges",
   "metadata": {},
   "outputs": [],
   "source": [
    "b = stocks_data.index[2]"
   ]
  },
  {
   "cell_type": "code",
   "execution_count": 21,
   "id": "passive-moisture",
   "metadata": {},
   "outputs": [
    {
     "data": {
      "text/plain": [
       "datetime.date(2018, 1, 4)"
      ]
     },
     "execution_count": 21,
     "metadata": {},
     "output_type": "execute_result"
    }
   ],
   "source": [
    "b.date()"
   ]
  },
  {
   "cell_type": "code",
   "execution_count": 22,
   "id": "alpine-retirement",
   "metadata": {},
   "outputs": [
    {
     "data": {
      "text/plain": [
       "503"
      ]
     },
     "execution_count": 22,
     "metadata": {},
     "output_type": "execute_result"
    }
   ],
   "source": [
    "len(stocks_data.index)"
   ]
  },
  {
   "cell_type": "code",
   "execution_count": 23,
   "id": "unique-supplier",
   "metadata": {},
   "outputs": [
    {
     "data": {
      "text/plain": [
       "503"
      ]
     },
     "execution_count": 23,
     "metadata": {},
     "output_type": "execute_result"
    }
   ],
   "source": [
    "len(stocks_data)"
   ]
  },
  {
   "cell_type": "code",
   "execution_count": 36,
   "id": "alternative-television",
   "metadata": {},
   "outputs": [
    {
     "ename": "TypeError",
     "evalue": "unhashable type: 'list'",
     "output_type": "error",
     "traceback": [
      "\u001b[0;31m---------------------------------------------------------------------------\u001b[0m",
      "\u001b[0;31mTypeError\u001b[0m                                 Traceback (most recent call last)",
      "\u001b[0;32m<ipython-input-36-3117352524ac>\u001b[0m in \u001b[0;36m<module>\u001b[0;34m\u001b[0m\n\u001b[1;32m      1\u001b[0m \u001b[0mprms\u001b[0m \u001b[0;34m=\u001b[0m \u001b[0;34m[\u001b[0m\u001b[0;34m'Adj Close'\u001b[0m\u001b[0;34m,\u001b[0m \u001b[0;34m'Close'\u001b[0m\u001b[0;34m,\u001b[0m \u001b[0;34m'High'\u001b[0m\u001b[0;34m,\u001b[0m \u001b[0;34m'Low'\u001b[0m\u001b[0;34m,\u001b[0m \u001b[0;34m'Open'\u001b[0m\u001b[0;34m,\u001b[0m \u001b[0;34m'Volume'\u001b[0m\u001b[0;34m]\u001b[0m\u001b[0;34m\u001b[0m\u001b[0;34m\u001b[0m\u001b[0m\n\u001b[0;32m----> 2\u001b[0;31m \u001b[0mstocks_data\u001b[0m\u001b[0;34m.\u001b[0m\u001b[0mloc\u001b[0m\u001b[0;34m[\u001b[0m\u001b[0mpd\u001b[0m\u001b[0;34m.\u001b[0m\u001b[0mDatetimeIndex\u001b[0m\u001b[0;34m(\u001b[0m\u001b[0;34m[\u001b[0m\u001b[0;34m'2018-3-19'\u001b[0m\u001b[0;34m]\u001b[0m\u001b[0;34m)\u001b[0m\u001b[0;34m]\u001b[0m\u001b[0;34m[\u001b[0m\u001b[0;34m[\u001b[0m\u001b[0;34m'Open'\u001b[0m\u001b[0;34m,\u001b[0m \u001b[0;34m'Close'\u001b[0m\u001b[0;34m]\u001b[0m\u001b[0;34m,\u001b[0m \u001b[0;34m'AAPL'\u001b[0m\u001b[0;34m]\u001b[0m\u001b[0;34m\u001b[0m\u001b[0;34m\u001b[0m\u001b[0m\n\u001b[0m",
      "\u001b[0;32m/Library/Frameworks/Python.framework/Versions/3.8/lib/python3.8/site-packages/pandas/core/frame.py\u001b[0m in \u001b[0;36m__getitem__\u001b[0;34m(self, key)\u001b[0m\n\u001b[1;32m   3021\u001b[0m         \u001b[0;32mif\u001b[0m \u001b[0mis_single_key\u001b[0m\u001b[0;34m:\u001b[0m\u001b[0;34m\u001b[0m\u001b[0;34m\u001b[0m\u001b[0m\n\u001b[1;32m   3022\u001b[0m             \u001b[0;32mif\u001b[0m \u001b[0mself\u001b[0m\u001b[0;34m.\u001b[0m\u001b[0mcolumns\u001b[0m\u001b[0;34m.\u001b[0m\u001b[0mnlevels\u001b[0m \u001b[0;34m>\u001b[0m \u001b[0;36m1\u001b[0m\u001b[0;34m:\u001b[0m\u001b[0;34m\u001b[0m\u001b[0;34m\u001b[0m\u001b[0m\n\u001b[0;32m-> 3023\u001b[0;31m                 \u001b[0;32mreturn\u001b[0m \u001b[0mself\u001b[0m\u001b[0;34m.\u001b[0m\u001b[0m_getitem_multilevel\u001b[0m\u001b[0;34m(\u001b[0m\u001b[0mkey\u001b[0m\u001b[0;34m)\u001b[0m\u001b[0;34m\u001b[0m\u001b[0;34m\u001b[0m\u001b[0m\n\u001b[0m\u001b[1;32m   3024\u001b[0m             \u001b[0mindexer\u001b[0m \u001b[0;34m=\u001b[0m \u001b[0mself\u001b[0m\u001b[0;34m.\u001b[0m\u001b[0mcolumns\u001b[0m\u001b[0;34m.\u001b[0m\u001b[0mget_loc\u001b[0m\u001b[0;34m(\u001b[0m\u001b[0mkey\u001b[0m\u001b[0;34m)\u001b[0m\u001b[0;34m\u001b[0m\u001b[0;34m\u001b[0m\u001b[0m\n\u001b[1;32m   3025\u001b[0m             \u001b[0;32mif\u001b[0m \u001b[0mis_integer\u001b[0m\u001b[0;34m(\u001b[0m\u001b[0mindexer\u001b[0m\u001b[0;34m)\u001b[0m\u001b[0;34m:\u001b[0m\u001b[0;34m\u001b[0m\u001b[0;34m\u001b[0m\u001b[0m\n",
      "\u001b[0;32m/Library/Frameworks/Python.framework/Versions/3.8/lib/python3.8/site-packages/pandas/core/frame.py\u001b[0m in \u001b[0;36m_getitem_multilevel\u001b[0;34m(self, key)\u001b[0m\n\u001b[1;32m   3072\u001b[0m     \u001b[0;32mdef\u001b[0m \u001b[0m_getitem_multilevel\u001b[0m\u001b[0;34m(\u001b[0m\u001b[0mself\u001b[0m\u001b[0;34m,\u001b[0m \u001b[0mkey\u001b[0m\u001b[0;34m)\u001b[0m\u001b[0;34m:\u001b[0m\u001b[0;34m\u001b[0m\u001b[0;34m\u001b[0m\u001b[0m\n\u001b[1;32m   3073\u001b[0m         \u001b[0;31m# self.columns is a MultiIndex\u001b[0m\u001b[0;34m\u001b[0m\u001b[0;34m\u001b[0m\u001b[0;34m\u001b[0m\u001b[0m\n\u001b[0;32m-> 3074\u001b[0;31m         \u001b[0mloc\u001b[0m \u001b[0;34m=\u001b[0m \u001b[0mself\u001b[0m\u001b[0;34m.\u001b[0m\u001b[0mcolumns\u001b[0m\u001b[0;34m.\u001b[0m\u001b[0mget_loc\u001b[0m\u001b[0;34m(\u001b[0m\u001b[0mkey\u001b[0m\u001b[0;34m)\u001b[0m\u001b[0;34m\u001b[0m\u001b[0;34m\u001b[0m\u001b[0m\n\u001b[0m\u001b[1;32m   3075\u001b[0m         \u001b[0;32mif\u001b[0m \u001b[0misinstance\u001b[0m\u001b[0;34m(\u001b[0m\u001b[0mloc\u001b[0m\u001b[0;34m,\u001b[0m \u001b[0;34m(\u001b[0m\u001b[0mslice\u001b[0m\u001b[0;34m,\u001b[0m \u001b[0mnp\u001b[0m\u001b[0;34m.\u001b[0m\u001b[0mndarray\u001b[0m\u001b[0;34m)\u001b[0m\u001b[0;34m)\u001b[0m\u001b[0;34m:\u001b[0m\u001b[0;34m\u001b[0m\u001b[0;34m\u001b[0m\u001b[0m\n\u001b[1;32m   3076\u001b[0m             \u001b[0mnew_columns\u001b[0m \u001b[0;34m=\u001b[0m \u001b[0mself\u001b[0m\u001b[0;34m.\u001b[0m\u001b[0mcolumns\u001b[0m\u001b[0;34m[\u001b[0m\u001b[0mloc\u001b[0m\u001b[0;34m]\u001b[0m\u001b[0;34m\u001b[0m\u001b[0;34m\u001b[0m\u001b[0m\n",
      "\u001b[0;32m/Library/Frameworks/Python.framework/Versions/3.8/lib/python3.8/site-packages/pandas/core/indexes/multi.py\u001b[0m in \u001b[0;36mget_loc\u001b[0;34m(self, key, method)\u001b[0m\n\u001b[1;32m   2857\u001b[0m             )\n\u001b[1;32m   2858\u001b[0m \u001b[0;34m\u001b[0m\u001b[0m\n\u001b[0;32m-> 2859\u001b[0;31m         \u001b[0mhash\u001b[0m\u001b[0;34m(\u001b[0m\u001b[0mkey\u001b[0m\u001b[0;34m)\u001b[0m\u001b[0;34m\u001b[0m\u001b[0;34m\u001b[0m\u001b[0m\n\u001b[0m\u001b[1;32m   2860\u001b[0m \u001b[0;34m\u001b[0m\u001b[0m\n\u001b[1;32m   2861\u001b[0m         \u001b[0;32mdef\u001b[0m \u001b[0m_maybe_to_slice\u001b[0m\u001b[0;34m(\u001b[0m\u001b[0mloc\u001b[0m\u001b[0;34m)\u001b[0m\u001b[0;34m:\u001b[0m\u001b[0;34m\u001b[0m\u001b[0;34m\u001b[0m\u001b[0m\n",
      "\u001b[0;31mTypeError\u001b[0m: unhashable type: 'list'"
     ]
    }
   ],
   "source": [
    "prms = ['Adj Close', 'Close', 'High', 'Low', 'Open', 'Volume']\n",
    "stocks_data.loc[pd.DatetimeIndex(['2018-3-19'])][['Open', 'Close'], 'AAPL']"
   ]
  },
  {
   "cell_type": "code",
   "execution_count": null,
   "id": "legal-hometown",
   "metadata": {},
   "outputs": [],
   "source": []
  }
 ],
 "metadata": {
  "kernelspec": {
   "display_name": "Python 3",
   "language": "python",
   "name": "python3"
  },
  "language_info": {
   "codemirror_mode": {
    "name": "ipython",
    "version": 3
   },
   "file_extension": ".py",
   "mimetype": "text/x-python",
   "name": "python",
   "nbconvert_exporter": "python",
   "pygments_lexer": "ipython3",
   "version": "3.8.0"
  }
 },
 "nbformat": 4,
 "nbformat_minor": 5
}
